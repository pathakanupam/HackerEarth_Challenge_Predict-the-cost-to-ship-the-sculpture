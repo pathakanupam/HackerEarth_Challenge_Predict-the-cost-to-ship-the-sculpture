{
  "nbformat": 4,
  "nbformat_minor": 0,
  "metadata": {
    "colab": {
      "name": "Untitled.ipynb",
      "provenance": []
    },
    "kernelspec": {
      "display_name": "Python 3",
      "language": "python",
      "name": "python3"
    },
    "language_info": {
      "codemirror_mode": {
        "name": "ipython",
        "version": 3
      },
      "file_extension": ".py",
      "mimetype": "text/x-python",
      "name": "python",
      "nbconvert_exporter": "python",
      "pygments_lexer": "ipython3",
      "version": "3.7.3"
    }
  },
  "cells": [
    {
      "cell_type": "code",
      "metadata": {
        "id": "MBLMVkj9KhqN"
      },
      "source": [
        "from google.colab import drive\n",
        "drive.mount('/content/drive/')"
      ],
      "execution_count": null,
      "outputs": []
    },
    {
      "cell_type": "code",
      "metadata": {
        "id": "BiKbU9XiLcfU"
      },
      "source": [
        "pip install category_encoders "
      ],
      "execution_count": null,
      "outputs": []
    },
    {
      "cell_type": "code",
      "metadata": {
        "id": "_pGM-3IGKf3i"
      },
      "source": [
        "import pandas as pd\n",
        "import numpy as np\n",
        "import datetime as dt\n",
        "import seaborn as sns\n",
        "import category_encoders as ce"
      ],
      "execution_count": null,
      "outputs": []
    },
    {
      "cell_type": "code",
      "metadata": {
        "id": "60fIq_IxKf3s"
      },
      "source": [
        "data_train = pd.read_csv(r'/content/drive/MyDrive/Projects/Cost to Ship Sculpture/Data/train.csv')\n",
        "data_test = pd.read_csv(r'/content/drive/MyDrive/Projects/Cost to Ship Sculpture/Data/test.csv')\n",
        "\n",
        "data_train['Scheduled Date']  = pd.to_datetime(data_train['Scheduled Date'], format = '%m/%d/%y') \n",
        "data_train['Delivery Date']  = pd.to_datetime(data_train['Delivery Date'], format = '%m/%d/%y') \n",
        "data_train['date_diff'] = (data_train['Scheduled Date'].dt.day - data_train['Delivery Date'].dt.day)\n",
        "\n",
        "data_test['Scheduled Date']  = pd.to_datetime(data_test['Scheduled Date'], format = '%m/%d/%y') \n",
        "data_test['Delivery Date']  = pd.to_datetime(data_test['Delivery Date'], format = '%m/%d/%y') \n",
        "data_test['date_diff'] = (data_test['Scheduled Date'].dt.day - data_test['Delivery Date'].dt.day)\n",
        "\n",
        "for i in range(data_train.shape[0]) : \n",
        "        data_train.loc[i, 'Customer Location'] = data_train.loc[i, 'Customer Location'][-8:-6]\n",
        "    \n",
        "data_train.head(2)"
      ],
      "execution_count": null,
      "outputs": []
    },
    {
      "cell_type": "code",
      "metadata": {
        "id": "SbW5_bVNKf3u"
      },
      "source": [
        "cols_to_drop = ['Customer Id', 'Artist Name','Artist Reputation','Scheduled Date','Delivery Date']\n",
        "test_output = data_test.loc[:,'Customer Id'].tolist()\n",
        "data_train = data_train.drop(cols_to_drop , axis  = 1)\n",
        "data_test = data_test.drop(cols_to_drop , axis  = 1)\n",
        "\n",
        "\n",
        "data_train['Cost'] = abs(data_train['Cost'])"
      ],
      "execution_count": null,
      "outputs": []
    },
    {
      "cell_type": "code",
      "metadata": {
        "id": "xl9lYCn5Kf3v"
      },
      "source": [
        "data_train"
      ],
      "execution_count": null,
      "outputs": []
    },
    {
      "cell_type": "code",
      "metadata": {
        "id": "J5bY-_JAKf3v"
      },
      "source": [
        "from sklearn.impute import SimpleImputer\n",
        "\n",
        "imputer_num = SimpleImputer(missing_values=np.nan, strategy = 'median')\n",
        "data_train.iloc[:,[0, 1, 2]] = imputer_num.fit_transform(data_train.iloc[:,[0, 1, 2]])\n",
        "data_test.iloc[:,[0, 1, 2]] = imputer_num.transform(data_test.iloc[:,[0, 1, 2]])"
      ],
      "execution_count": null,
      "outputs": []
    },
    {
      "cell_type": "code",
      "metadata": {
        "id": "8ZFklD7QKf3w"
      },
      "source": [
        "imputer_cat = SimpleImputer(missing_values=np.nan, strategy = 'most_frequent')\n",
        "data_train.iloc[:,[3,9,12]] = imputer_cat.fit_transform(data_train.iloc[:,[3,9,12]])\n",
        "data_test.iloc[:,[3,9,12]] = imputer_cat.transform(data_test.iloc[:,[3,9,12]])"
      ],
      "execution_count": null,
      "outputs": []
    },
    {
      "cell_type": "code",
      "metadata": {
        "id": "DeWST8bhKf3x"
      },
      "source": [
        "for i,j in enumerate(data_train.columns) : \n",
        "    print(i,' : ',j)"
      ],
      "execution_count": null,
      "outputs": []
    },
    {
      "cell_type": "code",
      "metadata": {
        "id": "OyrFII7sKf3x"
      },
      "source": [
        "from category_encoders import TargetEncoder\n",
        "encoder = ce.TargetEncoder(cols= 'Customer Location') \n",
        "\n",
        "data_train.loc[:,'Customer Location'] = encoder.fit_transform(data_train['Customer Location'],data_train['Cost'])\n",
        "\n",
        "data_test.loc[:,'Customer Location'] = encoder.transform(data_test.loc[:,'Customer Location'])"
      ],
      "execution_count": null,
      "outputs": []
    },
    {
      "cell_type": "code",
      "metadata": {
        "id": "Afh0DVr8Kf3y"
      },
      "source": [
        "X = data_train.loc[:, ['Height', 'Width', 'Weight', 'Material', 'Price Of Sculpture',\n",
        "       'Base Shipping Price', 'International', 'Express Shipment',\n",
        "       'Installation Included', 'Transport', 'Fragile', 'Customer Information',\n",
        "       'Remote Location', 'Customer Location', 'date_diff']].values\n",
        "\n",
        "y = data_train.loc[:,'Cost'].values\n",
        "\n",
        "from sklearn.model_selection import train_test_split\n",
        "X_train, X_val, y_train, y_val = train_test_split(X, y, test_size= 0.2)\n",
        "X_test = data_test.values"
      ],
      "execution_count": null,
      "outputs": []
    },
    {
      "cell_type": "code",
      "metadata": {
        "id": "7lCHMjL7Kf3y"
      },
      "source": [
        "from sklearn.compose import ColumnTransformer\n",
        "from sklearn.preprocessing import OneHotEncoder\n",
        "\n",
        "cols_2_onehotencode = [3, 6, 7, 8, 9, 10, 11, 12]\n",
        "ct = ColumnTransformer(transformers=[('encoder', OneHotEncoder(drop = 'first'), cols_2_onehotencode)], remainder='passthrough')\n",
        "\n",
        "X_train = ct.fit_transform(X_train)\n",
        "X_val = ct.transform(X_val)\n",
        "X_test = ct.transform(X_test)"
      ],
      "execution_count": null,
      "outputs": []
    },
    {
      "cell_type": "code",
      "metadata": {
        "id": "ZCqadU8yKf3z"
      },
      "source": [
        "from sklearn.preprocessing import StandardScaler\n",
        "\n",
        "sc = StandardScaler()\n",
        "X_train = sc.fit_transform(X_train)\n",
        "X_val = sc.transform(X_val)\n",
        "X_test = sc.transform(X_test)"
      ],
      "execution_count": null,
      "outputs": []
    },
    {
      "cell_type": "code",
      "metadata": {
        "id": "przd1ukxKf3z"
      },
      "source": [
        "X_train.shape"
      ],
      "execution_count": null,
      "outputs": []
    },
    {
      "cell_type": "code",
      "metadata": {
        "id": "IhTGQXBWKf3z"
      },
      "source": [
        "from datetime import datetime\n",
        "from sklearn.svm import SVR\n",
        "from sklearn.model_selection import GridSearchCV\n",
        "\n",
        "start = datetime.now()\n",
        "\n",
        "parameters = {\n",
        "            'kernel' : ['poly', 'rbf'],\n",
        "            'C': [0.1, 1, 100, 1000] ,\n",
        "            'epsilon': [0.0001, 0.0005, 0.001, 0.005, 0.01, 0.05, 0.1, 0.5, 1, 5, 10],\n",
        "            'gamma': [0.0001, 0.001, 0.005, 0.1, 1, 3, 5]}\n",
        "\n",
        "\n",
        "svr = SVR()\n",
        "\n",
        "model = GridSearchCV(svr, cv = 10, param_grid=parameters, scoring = 'neg_mean_absolute_error', n_jobs = -1)\n",
        "model.fit(X_train, y_train)\n",
        "\n",
        "\n",
        "end = datetime.now()\n",
        "\n",
        "\n",
        "print('Time taken : ', end -start)"
      ],
      "execution_count": null,
      "outputs": []
    },
    {
      "cell_type": "code",
      "metadata": {
        "id": "Akq_VWiCUNRc"
      },
      "source": [
        "model.best_params_"
      ],
      "execution_count": null,
      "outputs": []
    },
    {
      "cell_type": "code",
      "metadata": {
        "id": "N64h0_ORKf30"
      },
      "source": [
        "y_pred_test = model.predict(X_test)\n",
        "\n",
        "test_out = pd.DataFrame({'Customer Id' : test_output, 'Cost' : y_pred_test})\n",
        "print(test_out)"
      ],
      "execution_count": null,
      "outputs": []
    },
    {
      "cell_type": "code",
      "metadata": {
        "id": "_M7Xmsa3Kf30"
      },
      "source": [
        "test_out.to_csv('/content/drive/MyDrive/Projects/Cost to Ship Sculpture/Data/test_output2.csv', header = True, index = False)"
      ],
      "execution_count": null,
      "outputs": []
    }
  ]
}